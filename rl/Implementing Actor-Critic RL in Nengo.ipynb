{
 "cells": [
  {
   "cell_type": "code",
   "execution_count": 1,
   "metadata": {},
   "outputs": [],
   "source": [
    "%matplotlib inline\n",
    "import nengo\n",
    "import numpy as np\n",
    "import matplotlib.pyplot as plt\n",
    "from dv import LegacyAedatFile"
   ]
  },
  {
   "cell_type": "markdown",
   "metadata": {},
   "source": [
    "Here is an implementation of a simple actor-critic Reinforcement Learning algorithm in Nengo.\n",
    "\n",
    "This document is based on ideas I sketched out when teaching learning rules in Nengo 5 years ago (https://github.com/tcstewar/syde556-1/blob/master/SYDE%20556%20Lecture%2010%20Learning.ipynb) and I'd implemented all of these pieces before, but this is the first time I've combined them all together into a full actor-critic RL system.  This means that I haven't done any parameter tuning and there's probably lots of room for improvement.  \n",
    "\n",
    "In addition to the link above, I'm also indebted to these documents for (hopefully) keeping me on the right track for these algorithms.  Please let me know where I've got things wrong and correct me!\n",
    " - https://towardsdatascience.com/introduction-to-actor-critic-7642bdb2b3d2\n",
    " - https://towardsdatascience.com/understanding-actor-critic-methods-931b97b6df3f\n",
    " - http://incompleteideas.net/book/first/ebook/node66.html\n",
    " \n",
    "The basic idea behind an actor-critic algorithm is that you are making two different predictions.  One thing you are predicting is the future value of the current state (i.e. the expected rewards you will be getting in the future, given that you are in the current state).  This is the Critic.  The other thing you are predicting is how good the different available actions are given the current state.  This is the Actor.\n",
    "\n",
    "## Implementing the Critic\n",
    "\n",
    "The Critic part is pretty much the standard reinforcement learning idea.  The idea is that we have a neural network outputing this prediction, and we can update that prediction based on the reward we expect and the reward we get.  The standard trick is:\n",
    "\n",
    "- $V(s_t) = r_t + \\gamma r_{t+1} + \\gamma^2 r_{t+2} + ...$\n",
    "- $V(s_t) = r_t + \\gamma V(s_{t+1})$\n",
    "\n",
    "So, if we have a network outputting $V(s_t)$, and then we see what state we get to and what reward we actually get, then we can use that to update the neural network.\n",
    "\n",
    "- $\\delta_t = r_t + \\gamma V(s_{t+1}) - V(s_t)$\n",
    "\n",
    "(Note: there's lots of variants of this, most noteably ones that use $Q(s,a)$ instead of $V(s)$, which learns the expected reward of doing action $a$ in state $s$)\n",
    "\n",
    "Of course, that equation about future events, so let's shift the time by one time step so that it's about current and past events.\n",
    "\n",
    "- $\\delta_{t-1} = r_{t-1} + \\gamma V(s_{t}) - V(s_{t-1})$\n",
    "\n",
    "To implement this in Nengo, all we need is some neurons that store the state, and we compute the error signal as above and apply it to the learning rule.  For this, we're just using the PES learning rule (which in this case is just standard delta rule, so we are only updating the readout/decoder weights and no backprop is needed).  \n",
    "\n",
    "Since the computation involves shifting things in time, we also need to figure out how to implement that delay, and to decide how long it is in actual time (should it be one time-step? But in a continuous neuron model like LIF, what does a time step really mean?).  One way to do this would be to add a delay on the `nengo.Connection` (we do this via the `synapse` parameter).  Another option is to use a low-pass filter as the synapse, and using a longer time-constant to give something like a longer delay.  This also should work well with spiking neurons, as it spreads the spike out over time a bit.  (Note: it's interesting to compare this low-pass filter to the idea of eligibility traces...)."
   ]
  },
  {
   "cell_type": "markdown",
   "metadata": {},
   "source": [
    "Let's try just implementing the Critic part of the algorithm:\n",
    "\n",
    "**WORK IN PROGRESS**\n",
    "\n",
    "First, the environment. It uses the Gesture Dataset to generate inputs for the network. An update will fetch the next 100 events from the current gesture. This will be used as the state input for the network.\n",
    "We are sending a reward every 100 update, this is just a dummy reward to test the network.\n",
    "\n",
    "WARNING: we always fetch the events by packets of a 100, without taking into account the timestamp. This is far from optimal but a very simple first example."
   ]
  },
  {
   "cell_type": "code",
   "execution_count": 53,
   "metadata": {},
   "outputs": [],
   "source": [
    "class Environment:\n",
    "    def __init__(self):\n",
    "        self.events = self.load_gesture(\"./DVS_Gesture_Dataset/DvsGesture/user01_fluorescent.aedat\")\n",
    "        self.cursor = 0\n",
    "\n",
    "    def update(self):\n",
    "        if self.cursor < len(self.events):\n",
    "            state = self.events[self.cursor]\n",
    "            self.cursor += 1\n",
    "        else:\n",
    "            self.events = self.load_gesture(\"./DVS_Gesture_Dataset/DvsGesture/user01_fluorescent.aedat\")\n",
    "            self.cursor = 0\n",
    "            state = self.events[self.cursor]\n",
    "        reward = 1 if self.cursor % 200 == 0 else 0\n",
    "        return *state, reward\n",
    "    \n",
    "    def load_gesture(self, name):\n",
    "        list_events = []\n",
    "        events = []\n",
    "        with LegacyAedatFile(name) as f:\n",
    "            for i, event in enumerate(f):\n",
    "                if i % 100 == 0 and i != 0:\n",
    "                    list_events.append(events) # the list is subdivided in packets of 100 events, so 200 inputs (x,y) per update\n",
    "                    events = []\n",
    "                events.append(event.x)\n",
    "                events.append(event.y) # We add the x and y coordinate of the event in a list\n",
    "\n",
    "        return list_events"
   ]
  },
  {
   "cell_type": "markdown",
   "metadata": {},
   "source": [
    "First, let's set up the basic structure that we can add the learning to.  "
   ]
  },
  {
   "cell_type": "code",
   "execution_count": 54,
   "metadata": {},
   "outputs": [],
   "source": [
    "tau_slow = 0.01\n",
    "tau_fast = None\n",
    "discount = 0.95\n",
    "\n",
    "environment = Environment()\n",
    "model = nengo.Network()\n",
    "with model:\n",
    "    \n",
    "    # create the environment\n",
    "    #   it has 201 inputs: the first 200 are the state, and the last is the reward\n",
    "    env = nengo.Node(lambda t: environment.update(), size_out=201)\n",
    "    \n",
    "    # set up some other Nodes that just grab the state and reward information,\n",
    "    #  just for clarity\n",
    "    state = nengo.Node(None, size_in=200)\n",
    "    nengo.Connection(env[:-1], state, synapse=None)\n",
    "    reward = nengo.Node(None, size_in=1)\n",
    "    nengo.Connection(env[-1], reward, synapse=None)\n",
    "    \n",
    "    # create the neural network to encode the state.  The default is LIF neurons.\n",
    "    ens = nengo.Ensemble(n_neurons=10000, dimensions=200)\n",
    "    nengo.Connection(state, ens, synapse=None)\n",
    "    \n",
    "    # this is the output value that we critic will learn\n",
    "    value = nengo.Node(None, size_in=1)\n",
    "\n",
    "    # record the value and the reward\n",
    "    p_value = nengo.Probe(value)\n",
    "    p_reward = nengo.Probe(reward)"
   ]
  },
  {
   "cell_type": "markdown",
   "metadata": {},
   "source": [
    "Now we need the learning system.  First, we need to compute the error signal, which is $r_{t-1} + \\gamma V(s_{t}) - V(s_{t-1})$.  But, to do the time delays, we are using the synapses, so it's more like $h(t)\\circledast r(t) + \\gamma V(t) - h(t)\\circledast V(t)$ (where $h(t)$ is the synapse model). This is just adding a bunch of things together that we already have, and sometimes filtering them, so here's how we compute that just by using `nengo.Connection` objects.:"
   ]
  },
  {
   "cell_type": "code",
   "execution_count": 55,
   "metadata": {},
   "outputs": [],
   "source": [
    "with model:\n",
    "    value_error = nengo.Node(None, size_in=1)\n",
    "    nengo.Connection(value, value_error, transform=-discount, synapse=tau_fast)\n",
    "    nengo.Connection(value, value_error, synapse=tau_slow)\n",
    "    nengo.Connection(reward, value_error, transform=-1, synapse=tau_slow)"
   ]
  },
  {
   "cell_type": "markdown",
   "metadata": {},
   "source": [
    "Now we need to create the connection this error signal will be applied to.  This is just the standard PES rule, which is usually pretty much just delta rule.  However, in this case we have to be a little more careful because this is the error signal for the *past* ($\\delta_{t-1}$).  Normal delta rule would just be $\\Delta w_i = -\\alpha \\delta a_i$ (where $\\alpha$ is the learning rate, $\\delta$ is the error signal, and $a_i$ is the output of the $i$th neuron).  But, PES also has a synaptic filter that can be applied to the neuron activity: $\\Delta w_i = -\\alpha \\delta (h(t) \\circledast a_i)$.  So, in the ideal case, if we had a delay as $h(t)$, then that would be exactly the standard RL learning rule.  We can do a delay here, or we can do the same trick of doing a low-pass filter instead to get something like a delay that might work well with spiking neurons.  We specify this for the PES rule with the `pre_synapse` parameter."
   ]
  },
  {
   "cell_type": "code",
   "execution_count": 56,
   "metadata": {},
   "outputs": [],
   "source": [
    "with model:\n",
    "    # make the connection to learn on\n",
    "    c = nengo.Connection(ens.neurons, value, transform=np.zeros((1, ens.n_neurons)), \n",
    "                         learning_rule_type=nengo.PES(learning_rate=1e-4, pre_synapse=tau_slow))\n",
    "    # connect the error signal to the learning rule\n",
    "    nengo.Connection(value_error, c.learning_rule, synapse=None)"
   ]
  },
  {
   "cell_type": "markdown",
   "metadata": {},
   "source": [
    "Now we can run the model and see what it does."
   ]
  },
  {
   "cell_type": "code",
   "execution_count": null,
   "metadata": {},
   "outputs": [
    {
     "data": {
      "application/vdom.v1+json": {
       "attributes": {},
       "tagName": "div"
      },
      "text/html": [
       "\n",
       "                <script>\n",
       "                    if (Jupyter.version.split(\".\")[0] < 5) {\n",
       "                        var pb = document.getElementById(\"a90a1493-a364-45c5-b3fe-1d30cebaca60\");\n",
       "                        var text = document.createTextNode(\n",
       "                            \"HMTL progress bar requires Jupyter Notebook >= \" +\n",
       "                            \"5.0 or Jupyter Lab. Alternatively, you can use \" +\n",
       "                            \"TerminalProgressBar().\");\n",
       "                        pb.parentNode.insertBefore(text, pb);\n",
       "                    }\n",
       "                </script>\n",
       "                <div id=\"a90a1493-a364-45c5-b3fe-1d30cebaca60\" style=\"\n",
       "                    width: 100%;\n",
       "                    border: 1px solid #cfcfcf;\n",
       "                    border-radius: 4px;\n",
       "                    text-align: center;\n",
       "                    position: relative;\">\n",
       "                  <div class=\"pb-text\" style=\"\n",
       "                      position: absolute;\n",
       "                      width: 100%;\">\n",
       "                    0%\n",
       "                  </div>\n",
       "                  <div class=\"pb-fill\" style=\"\n",
       "                      background-color: #bdd2e6;\n",
       "                      width: 0%;\">\n",
       "                    <style type=\"text/css\" scoped=\"scoped\">\n",
       "                        @keyframes pb-fill-anim {\n",
       "                            0% { background-position: 0 0; }\n",
       "                            100% { background-position: 100px 0; }\n",
       "                        }\n",
       "                    </style>\n",
       "                    &nbsp;\n",
       "                  </div>\n",
       "                </div>"
      ],
      "text/plain": [
       "HtmlProgressBar cannot be displayed. Please use the TerminalProgressBar. It can be enabled with `nengo.rc.set('progress', 'progress_bar', 'nengo.utils.progress.TerminalProgressBar')`."
      ]
     },
     "metadata": {},
     "output_type": "display_data"
    },
    {
     "data": {
      "application/vdom.v1+json": {
       "attributes": {
        "id": "c2e3fd0a-ee53-4798-9365-c1ca8a15b6de",
        "style": {
         "border": "1px solid #cfcfcf",
         "borderRadius": "4px",
         "boxSizing": "border-box",
         "position": "relative",
         "textAlign": "center",
         "width": "100%"
        }
       },
       "children": [
        {
         "attributes": {
          "class": "pb-text",
          "style": {
           "position": "absolute",
           "width": "100%"
          }
         },
         "children": [
          "Build finished in 0:00:01."
         ],
         "tagName": "div"
        },
        {
         "attributes": {
          "class": "pb-fill",
          "style": {
           "animation": "none",
           "backgroundColor": "#bdd2e6",
           "backgroundImage": "none",
           "backgroundSize": "100px 100%",
           "width": "100%"
          }
         },
         "children": [
          {
           "attributes": {
            "scoped": "scoped",
            "type": "text/css"
           },
           "children": [
            "\n                        @keyframes pb-fill-anim {\n                            0% { background-position: 0 0; }\n                            100% { background-position: 100px 0; }\n                        }}"
           ],
           "tagName": "style"
          },
          " "
         ],
         "tagName": "div"
        }
       ],
       "tagName": "div"
      },
      "text/html": [
       "<script>\n",
       "              (function () {\n",
       "                  var root = document.getElementById('a90a1493-a364-45c5-b3fe-1d30cebaca60');\n",
       "                  var text = root.getElementsByClassName('pb-text')[0];\n",
       "                  var fill = root.getElementsByClassName('pb-fill')[0];\n",
       "\n",
       "                  text.innerHTML = 'Build finished in 0:00:01.';\n",
       "                  \n",
       "            fill.style.width = '100%';\n",
       "            fill.style.animation = 'pb-fill-anim 2s linear infinite';\n",
       "            fill.style.backgroundSize = '100px 100%';\n",
       "            fill.style.backgroundImage = 'repeating-linear-gradient(' +\n",
       "                '90deg, #bdd2e6, #edf2f8 40%, #bdd2e6 80%, #bdd2e6)';\n",
       "        \n",
       "                  \n",
       "                fill.style.animation = 'none';\n",
       "                fill.style.backgroundImage = 'none';\n",
       "            \n",
       "              })();\n",
       "        </script>"
      ]
     },
     "metadata": {},
     "output_type": "display_data"
    },
    {
     "data": {
      "application/vdom.v1+json": {
       "attributes": {},
       "tagName": "div"
      },
      "text/html": [
       "\n",
       "                <script>\n",
       "                    if (Jupyter.version.split(\".\")[0] < 5) {\n",
       "                        var pb = document.getElementById(\"d8dfc153-b888-43d1-af39-806ac3f72d04\");\n",
       "                        var text = document.createTextNode(\n",
       "                            \"HMTL progress bar requires Jupyter Notebook >= \" +\n",
       "                            \"5.0 or Jupyter Lab. Alternatively, you can use \" +\n",
       "                            \"TerminalProgressBar().\");\n",
       "                        pb.parentNode.insertBefore(text, pb);\n",
       "                    }\n",
       "                </script>\n",
       "                <div id=\"d8dfc153-b888-43d1-af39-806ac3f72d04\" style=\"\n",
       "                    width: 100%;\n",
       "                    border: 1px solid #cfcfcf;\n",
       "                    border-radius: 4px;\n",
       "                    text-align: center;\n",
       "                    position: relative;\">\n",
       "                  <div class=\"pb-text\" style=\"\n",
       "                      position: absolute;\n",
       "                      width: 100%;\">\n",
       "                    0%\n",
       "                  </div>\n",
       "                  <div class=\"pb-fill\" style=\"\n",
       "                      background-color: #bdd2e6;\n",
       "                      width: 0%;\">\n",
       "                    <style type=\"text/css\" scoped=\"scoped\">\n",
       "                        @keyframes pb-fill-anim {\n",
       "                            0% { background-position: 0 0; }\n",
       "                            100% { background-position: 100px 0; }\n",
       "                        }\n",
       "                    </style>\n",
       "                    &nbsp;\n",
       "                  </div>\n",
       "                </div>"
      ],
      "text/plain": [
       "HtmlProgressBar cannot be displayed. Please use the TerminalProgressBar. It can be enabled with `nengo.rc.set('progress', 'progress_bar', 'nengo.utils.progress.TerminalProgressBar')`."
      ]
     },
     "metadata": {},
     "output_type": "display_data"
    },
    {
     "data": {
      "application/vdom.v1+json": {
       "attributes": {
        "id": "04a68d1d-7d3e-43c3-8e07-51fbb66ae511",
        "style": {
         "border": "1px solid #cfcfcf",
         "borderRadius": "4px",
         "boxSizing": "border-box",
         "position": "relative",
         "textAlign": "center",
         "width": "100%"
        }
       },
       "children": [
        {
         "attributes": {
          "class": "pb-text",
          "style": {
           "position": "absolute",
           "width": "100%"
          }
         },
         "children": [
          "Simulating… 100%, ETA: 0:00:01"
         ],
         "tagName": "div"
        },
        {
         "attributes": {
          "class": "pb-fill",
          "style": {
           "animation": "none",
           "backgroundColor": "#bdd2e6",
           "backgroundImage": "none",
           "transition": "width 0.1s linear",
           "width": "100%"
          }
         },
         "children": [
          {
           "attributes": {
            "scoped": "scoped",
            "type": "text/css"
           },
           "children": [
            "\n                        @keyframes pb-fill-anim {\n                            0% { background-position: 0 0; }\n                            100% { background-position: 100px 0; }\n                        }}"
           ],
           "tagName": "style"
          },
          " "
         ],
         "tagName": "div"
        }
       ],
       "tagName": "div"
      },
      "text/html": [
       "<script>\n",
       "              (function () {\n",
       "                  var root = document.getElementById('d8dfc153-b888-43d1-af39-806ac3f72d04');\n",
       "                  var text = root.getElementsByClassName('pb-text')[0];\n",
       "                  var fill = root.getElementsByClassName('pb-fill')[0];\n",
       "\n",
       "                  text.innerHTML = 'Simulating&hellip; 100%, ETA: 0:00:01';\n",
       "                  \n",
       "            if (99.53800000000001 > 0.) {\n",
       "                fill.style.transition = 'width 0.1s linear';\n",
       "            } else {\n",
       "                fill.style.transition = 'none';\n",
       "            }\n",
       "\n",
       "            fill.style.width = '99.53800000000001%';\n",
       "            fill.style.animation = 'none';\n",
       "            fill.style.backgroundImage = 'none'\n",
       "        \n",
       "                  \n",
       "              })();\n",
       "        </script>"
      ]
     },
     "metadata": {},
     "output_type": "display_data"
    }
   ],
   "source": [
    "sim = nengo.Simulator(model)\n",
    "sim.run(100)"
   ]
  },
  {
   "cell_type": "code",
   "execution_count": 45,
   "metadata": {},
   "outputs": [
    {
     "data": {
      "image/png": "[encoded data removed]",
      "text/plain": [
       "<Figure size 864x576 with 3 Axes>"
      ]
     },
     "metadata": {
      "needs_background": "light"
     },
     "output_type": "display_data"
    }
   ],
   "source": [
    "plt.figure(figsize=(12,8))\n",
    "for i,t in enumerate([10, 25, 50, 75, 100]):\n",
    "    plt.subplot(5, 1, i+1)\n",
    "    plt.plot(sim.trange(), sim.data[p_value], label='value')\n",
    "    plt.plot(sim.trange(), sim.data[p_reward], label='reward')\n",
    "    plt.xlim(t-1,t)\n",
    "    plt.legend()"
   ]
  },
  {
   "cell_type": "markdown",
   "metadata": {},
   "source": [
    "That seems to work!  The anticipated value starts climbing just before the reward, and then drops once the reward appears. You can see a bit of the learning trajectory there where at the beginning (first row), it just knows that there's a reward somewhere around that sate, and then as it gets more experience (lower rows) it becomes pretty good about anticipating the reward, and then at learning that after the reward it isn't going to get another reward any time soon.\n",
    "\n",
    "There's lots that can be explored about this.  In addition to the number of neurons, the learning rate, and the `tau_slow` and `tau_fast` parameters, there is also things like setting `neuron_type=nengo.RectifiedLinear()` or `neuron_type=nengo.Sigmoid()` when creating the `nengo.Ensemble` would use non-spiking neurons.  You can also try an actual delay rather than a low-pass filter by making use of the following `Delay` object and setting `tau_slow = Delay(0.01)`.  One other interesting thing to try is adjusting the sparsity in the neural network by setting `intercepts=nengo.dists.Uniform(0.6,1)` when creating the `nengo.Ensemble`.  "
   ]
  },
  {
   "cell_type": "code",
   "execution_count": 10,
   "metadata": {},
   "outputs": [],
   "source": [
    "# an implementation of a pure Delay synapse for nengo\n",
    "class Delay(nengo.synapses.Synapse):\n",
    "    def __init__(self, delay, size_in=1):\n",
    "        self.delay = delay\n",
    "        super().__init__(default_size_in=size_in, default_size_out=size_in)\n",
    "\n",
    "    def make_state(self, shape_in, shape_out, dt, dtype=None, y0=None):\n",
    "        return {}\n",
    "\n",
    "    def make_step(self, shape_in, shape_out, dt, rng, state=None):\n",
    "        steps = int(self.delay/dt)\n",
    "        if steps == 0:\n",
    "            def step_delay(t, x):\n",
    "                return x\n",
    "            return step_delay\n",
    "        assert steps > 0\n",
    "\n",
    "        state = np.zeros((steps, shape_in[0]))\n",
    "        state_index = np.array([0])\n",
    "\n",
    "        def step_delay(t, x, state=state, state_index=state_index):\n",
    "            result = state[state_index]\n",
    "            state[state_index] = x\n",
    "            state_index[:] = (state_index + 1) % state.shape[0]\n",
    "            return result\n",
    "\n",
    "        return step_delay"
   ]
  },
  {
   "cell_type": "markdown",
   "metadata": {},
   "source": [
    "## Implementing the Actor\n",
    "\n",
    "So now the system can figure out how good a particular state is (in terms of what sorts of future rewards are expected).  So how can we figure out what the right action to take would be that would lead to good states?\n",
    "\n",
    "The fun trick in Actor-Critic learning is that it turns out you can use *the same error signal* as you're computing for the Critic part to tell you what action to take!  The basic intuition is that if you do an action and it turns out better than you expected (i.e. $\\delta_{t-1} = r_{t-1} + \\gamma V(s_{t}) - V(s_{t-1})$ is positive), then this means whatever action you just performed is better than you thought it was, and so you should increase your chance of doing that action in the state you were in ($s_{t-1}$).\n",
    "\n",
    "So, all we need is to set up another `Connection` to readout how good our different actions are (one numerical value per action).  We then pass those values through a softmax to turn them into probabilities, and sample from that probability distribution to get our actual choice.  (Note: we could do all these steps using neurons in nengo, but for simplicity let's just do those steps as normal code).\n",
    "\n",
    "Now when we compute the error for that `Connection`, we do\n",
    "\n",
    "$\\delta_{actor, i} = \\delta$ if $i$ is the chosen action, otherwise $0$ \n",
    "\n",
    "(i.e. if you chose action $i$ and it was better than you thought it was ($\\delta > 0$) then increase your chance of doing that action in the state $\\delta_{actor, i}>0$)\n",
    "\n",
    "That's the simplest form of the idea, but there's a bunch of variations.  In particular, if choose action $i$ and it's better than I expect, then not only should I increase how good I think that action is, but I should also decrease how good I think the other actions are (and vice-versa).  Furthermore, I might want to scale this based on the probability of choosing those actions.  To make this a little less ad-hoc, one common thing to do is to say something like \"the loss function is $-ln(p_{chosen})\\delta$.  If you go and take the derivative of that loss function with respect to the actor output weights (i.e. taking the derivative through that softmax that's happening0, you see that this is the same as the following error rule:\n",
    "\n",
    "$\\delta_{actor, i} = \\delta(1-p_i)$ if $i$ is the chosen action, otherwise $-\\delta p_i$ \n",
    "\n",
    "(Note: This is known as the advantage actor-critic algorithm)\n",
    "\n",
    "Let's add this to the nengo model.  We'll have to slightly modify the `Environment` so that it actually accepts an action choice (rather than constantly spinning one way).  We'll have two actions: move left and move right.  "
   ]
  },
  {
   "cell_type": "code",
   "execution_count": 11,
   "metadata": {},
   "outputs": [],
   "source": [
    "class Environment:\n",
    "    def __init__(self):\n",
    "        self.theta = 0\n",
    "        \n",
    "    def update(self, x):\n",
    "        if x[0] > 0:\n",
    "            self.theta += 0.01\n",
    "        if x[1] > 0:\n",
    "            self.theta -= 0.01\n",
    "        reward = 1 if np.cos(self.theta)>0.95 else 0\n",
    "        return np.sin(self.theta), np.cos(self.theta), reward"
   ]
  },
  {
   "cell_type": "markdown",
   "metadata": {},
   "source": [
    "And now let's re-create the Critic part of the model as well as the new Actor part."
   ]
  },
  {
   "cell_type": "code",
   "execution_count": 12,
   "metadata": {},
   "outputs": [],
   "source": [
    "tau_slow = 0.01\n",
    "tau_fast = None\n",
    "discount = 0.95\n",
    "\n",
    "environment = Environment()\n",
    "model = nengo.Network()\n",
    "with model:\n",
    "    \n",
    "    # create the environment\n",
    "    #   it has 3 outputs: the first 2 are the state, and the last is the reward\n",
    "    env = nengo.Node(lambda t, x: environment.update(x), size_in=2, size_out=3)\n",
    "    \n",
    "    # set up some other Nodes that just grab the state and reward information,\n",
    "    #  just for clarity\n",
    "    state = nengo.Node(None, size_in=2)\n",
    "    nengo.Connection(env[:2], state, synapse=None)\n",
    "    reward = nengo.Node(None, size_in=1)\n",
    "    nengo.Connection(env[2], reward, synapse=None)\n",
    "    \n",
    "    # create the neural network to encode the state.  The default is LIF neurons.\n",
    "    ens = nengo.Ensemble(n_neurons=200, dimensions=2)\n",
    "    nengo.Connection(state, ens, synapse=None)\n",
    "    \n",
    "    # this is the output value that we critic will learn\n",
    "    value = nengo.Node(None, size_in=1)\n",
    "\n",
    "    # record the value and the reward\n",
    "    p_value = nengo.Probe(value)\n",
    "    p_reward = nengo.Probe(reward)\n",
    "    \n",
    "    # compute the critic error\n",
    "    value_error = nengo.Node(None, size_in=1)\n",
    "    nengo.Connection(value, value_error, transform=-discount, synapse=tau_fast)\n",
    "    nengo.Connection(value, value_error, synapse=tau_slow)\n",
    "    nengo.Connection(reward, value_error, transform=-1, synapse=tau_slow)\n",
    "    \n",
    "    # make the connection to learn on\n",
    "    c = nengo.Connection(ens.neurons, value, transform=np.zeros((1, ens.n_neurons)), \n",
    "                         learning_rule_type=nengo.PES(learning_rate=1e-4, pre_synapse=tau_slow))\n",
    "    # connect the error signal to the learning rule\n",
    "    nengo.Connection(value_error, c.learning_rule, synapse=None)\n",
    "\n",
    "    ### HERE IS THE NEW STUFF FOR THE ACTOR\n",
    "    \n",
    "    # the raw output from the network\n",
    "    raw_actions = nengo.Node(None, size_in=2, label='raw_actions')\n",
    "    \n",
    "    # compute the softmax\n",
    "    def softmax(t, x):\n",
    "        return np.exp(x)/np.sum(np.exp(x))\n",
    "    actions = nengo.Node(softmax, size_in=2, label='actions')\n",
    "    nengo.Connection(raw_actions, actions, synapse=None)\n",
    "\n",
    "    # do the random sampling and output which action we're taking\n",
    "    #  (here I just decided to represent choosing the action as +1 and not choosing as -1)\n",
    "    def choice_func(t, x):\n",
    "        c = np.random.choice(np.arange(2), p=x)\n",
    "        result = [-1, -1]\n",
    "        result[c] = 1\n",
    "        return result\n",
    "    choice = nengo.Node(choice_func, size_in=2, size_out=2, label='choice')\n",
    "    nengo.Connection(actions, choice, synapse=None)\n",
    "    \n",
    "    # and now connect the choice to the environment\n",
    "    nengo.Connection(choice, env, synapse=None)\n",
    "    \n",
    "    # and here is the computation of the error signal\n",
    "    c_actor = nengo.Connection(ens.neurons, raw_actions, transform=np.zeros((2, ens.n_neurons)), \n",
    "                               learning_rule_type=nengo.PES(learning_rate=1e-4, pre_synapse=tau_slow))\n",
    "\n",
    "    # implement the advantage actor-critic error rule\n",
    "    #  the Node gets 5 inputs: the delta for the critic part, 2 values indicating which action was chosen\n",
    "    #  (+1 for the chosen and -1 for the non-chosen ones), and the choice probabilities for the 2 actions\n",
    "    def actor_error_func(t, x):\n",
    "        delta = x[0]\n",
    "        chosen = x[1:3]\n",
    "        prob = x[3:5]\n",
    "        # compute the error\n",
    "        e = np.where(chosen>0, delta*(1-prob), -delta*prob)\n",
    "        return e\n",
    "\n",
    "    actor_error = nengo.Node(actor_error_func, size_in=5, label='actor_error')\n",
    "    nengo.Connection(value_error, actor_error[0], synapse=None)\n",
    "    nengo.Connection(choice, actor_error[1:3], synapse=None)\n",
    "    nengo.Connection(actions, actor_error[3:5], synapse=None)\n",
    "    nengo.Connection(actor_error, c_actor.learning_rule, transform=-1, synapse=tau_slow) \n",
    "    \n",
    "    p_choice = nengo.Probe(choice)   # record the actual choices\n",
    "    p_prob = nengo.Probe(actions)    # record the probabilities "
   ]
  },
  {
   "cell_type": "markdown",
   "metadata": {},
   "source": [
    "Now let's run the model and see what happens."
   ]
  },
  {
   "cell_type": "code",
   "execution_count": 13,
   "metadata": {},
   "outputs": [
    {
     "data": {
      "application/vdom.v1+json": {
       "attributes": {},
       "tagName": "div"
      },
      "text/html": [
       "\n",
       "                <script>\n",
       "                    if (Jupyter.version.split(\".\")[0] < 5) {\n",
       "                        var pb = document.getElementById(\"caa73818-efc7-4839-b3f3-900ccca9646e\");\n",
       "                        var text = document.createTextNode(\n",
       "                            \"HMTL progress bar requires Jupyter Notebook >= \" +\n",
       "                            \"5.0 or Jupyter Lab. Alternatively, you can use \" +\n",
       "                            \"TerminalProgressBar().\");\n",
       "                        pb.parentNode.insertBefore(text, pb);\n",
       "                    }\n",
       "                </script>\n",
       "                <div id=\"caa73818-efc7-4839-b3f3-900ccca9646e\" style=\"\n",
       "                    width: 100%;\n",
       "                    border: 1px solid #cfcfcf;\n",
       "                    border-radius: 4px;\n",
       "                    text-align: center;\n",
       "                    position: relative;\">\n",
       "                  <div class=\"pb-text\" style=\"\n",
       "                      position: absolute;\n",
       "                      width: 100%;\">\n",
       "                    0%\n",
       "                  </div>\n",
       "                  <div class=\"pb-fill\" style=\"\n",
       "                      background-color: #bdd2e6;\n",
       "                      width: 0%;\">\n",
       "                    <style type=\"text/css\" scoped=\"scoped\">\n",
       "                        @keyframes pb-fill-anim {\n",
       "                            0% { background-position: 0 0; }\n",
       "                            100% { background-position: 100px 0; }\n",
       "                        }\n",
       "                    </style>\n",
       "                    &nbsp;\n",
       "                  </div>\n",
       "                </div>"
      ],
      "text/plain": [
       "HtmlProgressBar cannot be displayed. Please use the TerminalProgressBar. It can be enabled with `nengo.rc.set('progress', 'progress_bar', 'nengo.utils.progress.TerminalProgressBar')`."
      ]
     },
     "metadata": {},
     "output_type": "display_data"
    },
    {
     "data": {
      "application/vdom.v1+json": {
       "attributes": {
        "id": "54b04930-5245-4b40-a92b-6b1e60ee8c9e",
        "style": {
         "border": "1px solid #cfcfcf",
         "borderRadius": "4px",
         "boxSizing": "border-box",
         "position": "relative",
         "textAlign": "center",
         "width": "100%"
        }
       },
       "children": [
        {
         "attributes": {
          "class": "pb-text",
          "style": {
           "position": "absolute",
           "width": "100%"
          }
         },
         "children": [
          "Build finished in 0:00:01."
         ],
         "tagName": "div"
        },
        {
         "attributes": {
          "class": "pb-fill",
          "style": {
           "animation": "none",
           "backgroundColor": "#bdd2e6",
           "backgroundImage": "none",
           "backgroundSize": "100px 100%",
           "width": "100%"
          }
         },
         "children": [
          {
           "attributes": {
            "scoped": "scoped",
            "type": "text/css"
           },
           "children": [
            "\n                        @keyframes pb-fill-anim {\n                            0% { background-position: 0 0; }\n                            100% { background-position: 100px 0; }\n                        }}"
           ],
           "tagName": "style"
          },
          " "
         ],
         "tagName": "div"
        }
       ],
       "tagName": "div"
      },
      "text/html": [
       "<script>\n",
       "              (function () {\n",
       "                  var root = document.getElementById('caa73818-efc7-4839-b3f3-900ccca9646e');\n",
       "                  var text = root.getElementsByClassName('pb-text')[0];\n",
       "                  var fill = root.getElementsByClassName('pb-fill')[0];\n",
       "\n",
       "                  text.innerHTML = 'Build finished in 0:00:01.';\n",
       "                  \n",
       "            fill.style.width = '100%';\n",
       "            fill.style.animation = 'pb-fill-anim 2s linear infinite';\n",
       "            fill.style.backgroundSize = '100px 100%';\n",
       "            fill.style.backgroundImage = 'repeating-linear-gradient(' +\n",
       "                '90deg, #bdd2e6, #edf2f8 40%, #bdd2e6 80%, #bdd2e6)';\n",
       "        \n",
       "                  \n",
       "                fill.style.animation = 'none';\n",
       "                fill.style.backgroundImage = 'none';\n",
       "            \n",
       "              })();\n",
       "        </script>"
      ]
     },
     "metadata": {},
     "output_type": "display_data"
    },
    {
     "data": {
      "application/vdom.v1+json": {
       "attributes": {},
       "tagName": "div"
      },
      "text/html": [
       "\n",
       "                <script>\n",
       "                    if (Jupyter.version.split(\".\")[0] < 5) {\n",
       "                        var pb = document.getElementById(\"d53fd4db-d831-46dd-87c9-e31da051842b\");\n",
       "                        var text = document.createTextNode(\n",
       "                            \"HMTL progress bar requires Jupyter Notebook >= \" +\n",
       "                            \"5.0 or Jupyter Lab. Alternatively, you can use \" +\n",
       "                            \"TerminalProgressBar().\");\n",
       "                        pb.parentNode.insertBefore(text, pb);\n",
       "                    }\n",
       "                </script>\n",
       "                <div id=\"d53fd4db-d831-46dd-87c9-e31da051842b\" style=\"\n",
       "                    width: 100%;\n",
       "                    border: 1px solid #cfcfcf;\n",
       "                    border-radius: 4px;\n",
       "                    text-align: center;\n",
       "                    position: relative;\">\n",
       "                  <div class=\"pb-text\" style=\"\n",
       "                      position: absolute;\n",
       "                      width: 100%;\">\n",
       "                    0%\n",
       "                  </div>\n",
       "                  <div class=\"pb-fill\" style=\"\n",
       "                      background-color: #bdd2e6;\n",
       "                      width: 0%;\">\n",
       "                    <style type=\"text/css\" scoped=\"scoped\">\n",
       "                        @keyframes pb-fill-anim {\n",
       "                            0% { background-position: 0 0; }\n",
       "                            100% { background-position: 100px 0; }\n",
       "                        }\n",
       "                    </style>\n",
       "                    &nbsp;\n",
       "                  </div>\n",
       "                </div>"
      ],
      "text/plain": [
       "HtmlProgressBar cannot be displayed. Please use the TerminalProgressBar. It can be enabled with `nengo.rc.set('progress', 'progress_bar', 'nengo.utils.progress.TerminalProgressBar')`."
      ]
     },
     "metadata": {},
     "output_type": "display_data"
    },
    {
     "data": {
      "application/vdom.v1+json": {
       "attributes": {
        "id": "c11e960c-4d5f-45b5-bf39-01f28996f41c",
        "style": {
         "border": "1px solid #cfcfcf",
         "borderRadius": "4px",
         "boxSizing": "border-box",
         "position": "relative",
         "textAlign": "center",
         "width": "100%"
        }
       },
       "children": [
        {
         "attributes": {
          "class": "pb-text",
          "style": {
           "position": "absolute",
           "width": "100%"
          }
         },
         "children": [
          "Simulation finished in 0:00:35."
         ],
         "tagName": "div"
        },
        {
         "attributes": {
          "class": "pb-fill",
          "style": {
           "animation": "none",
           "backgroundColor": "#bdd2e6",
           "backgroundImage": "none",
           "transition": "width 0.1s linear",
           "width": "100%"
          }
         },
         "children": [
          {
           "attributes": {
            "scoped": "scoped",
            "type": "text/css"
           },
           "children": [
            "\n                        @keyframes pb-fill-anim {\n                            0% { background-position: 0 0; }\n                            100% { background-position: 100px 0; }\n                        }}"
           ],
           "tagName": "style"
          },
          " "
         ],
         "tagName": "div"
        }
       ],
       "tagName": "div"
      },
      "text/html": [
       "<script>\n",
       "              (function () {\n",
       "                  var root = document.getElementById('d53fd4db-d831-46dd-87c9-e31da051842b');\n",
       "                  var text = root.getElementsByClassName('pb-text')[0];\n",
       "                  var fill = root.getElementsByClassName('pb-fill')[0];\n",
       "\n",
       "                  text.innerHTML = 'Simulation finished in 0:00:35.';\n",
       "                  \n",
       "            if (100.0 > 0.) {\n",
       "                fill.style.transition = 'width 0.1s linear';\n",
       "            } else {\n",
       "                fill.style.transition = 'none';\n",
       "            }\n",
       "\n",
       "            fill.style.width = '100.0%';\n",
       "            fill.style.animation = 'none';\n",
       "            fill.style.backgroundImage = 'none'\n",
       "        \n",
       "                  \n",
       "                fill.style.animation = 'none';\n",
       "                fill.style.backgroundImage = 'none';\n",
       "            \n",
       "              })();\n",
       "        </script>"
      ]
     },
     "metadata": {},
     "output_type": "display_data"
    }
   ],
   "source": [
    "sim = nengo.Simulator(model)\n",
    "sim.run(100)"
   ]
  },
  {
   "cell_type": "code",
   "execution_count": 15,
   "metadata": {},
   "outputs": [
    {
     "data": {
      "image/png": "[encoded data removed]",
      "text/plain": [
       "<Figure size 432x288 with 1 Axes>"
      ]
     },
     "metadata": {
      "needs_background": "light"
     },
     "output_type": "display_data"
    }
   ],
   "source": [
    "plt.plot(sim.trange(), sim.data[p_value], label='value')\n",
    "plt.plot(sim.trange(), sim.data[p_reward], label='reward')\n",
    "plt.legend()\n",
    "plt.show()"
   ]
  },
  {
   "cell_type": "markdown",
   "metadata": {},
   "source": [
    "Well, it seems to be anticipating the reward okay, but it doesn't seem to be learning to perform actions that help it get that reward.  Let's let it keep learning for longer.  (Note: calling `sim.run` again continues the simulation from where was.)"
   ]
  },
  {
   "cell_type": "code",
   "execution_count": 16,
   "metadata": {},
   "outputs": [
    {
     "data": {
      "application/vdom.v1+json": {
       "attributes": {},
       "tagName": "div"
      },
      "text/html": [
       "\n",
       "                <script>\n",
       "                    if (Jupyter.version.split(\".\")[0] < 5) {\n",
       "                        var pb = document.getElementById(\"d88f3ab4-4249-4f9f-a961-416b1f87350f\");\n",
       "                        var text = document.createTextNode(\n",
       "                            \"HMTL progress bar requires Jupyter Notebook >= \" +\n",
       "                            \"5.0 or Jupyter Lab. Alternatively, you can use \" +\n",
       "                            \"TerminalProgressBar().\");\n",
       "                        pb.parentNode.insertBefore(text, pb);\n",
       "                    }\n",
       "                </script>\n",
       "                <div id=\"d88f3ab4-4249-4f9f-a961-416b1f87350f\" style=\"\n",
       "                    width: 100%;\n",
       "                    border: 1px solid #cfcfcf;\n",
       "                    border-radius: 4px;\n",
       "                    text-align: center;\n",
       "                    position: relative;\">\n",
       "                  <div class=\"pb-text\" style=\"\n",
       "                      position: absolute;\n",
       "                      width: 100%;\">\n",
       "                    0%\n",
       "                  </div>\n",
       "                  <div class=\"pb-fill\" style=\"\n",
       "                      background-color: #bdd2e6;\n",
       "                      width: 0%;\">\n",
       "                    <style type=\"text/css\" scoped=\"scoped\">\n",
       "                        @keyframes pb-fill-anim {\n",
       "                            0% { background-position: 0 0; }\n",
       "                            100% { background-position: 100px 0; }\n",
       "                        }\n",
       "                    </style>\n",
       "                    &nbsp;\n",
       "                  </div>\n",
       "                </div>"
      ],
      "text/plain": [
       "HtmlProgressBar cannot be displayed. Please use the TerminalProgressBar. It can be enabled with `nengo.rc.set('progress', 'progress_bar', 'nengo.utils.progress.TerminalProgressBar')`."
      ]
     },
     "metadata": {},
     "output_type": "display_data"
    },
    {
     "data": {
      "application/vdom.v1+json": {
       "attributes": {
        "id": "03dbaecc-5e8f-4f85-90cc-dce7103a350e",
        "style": {
         "border": "1px solid #cfcfcf",
         "borderRadius": "4px",
         "boxSizing": "border-box",
         "position": "relative",
         "textAlign": "center",
         "width": "100%"
        }
       },
       "children": [
        {
         "attributes": {
          "class": "pb-text",
          "style": {
           "position": "absolute",
           "width": "100%"
          }
         },
         "children": [
          "Simulation finished in 0:02:53."
         ],
         "tagName": "div"
        },
        {
         "attributes": {
          "class": "pb-fill",
          "style": {
           "animation": "none",
           "backgroundColor": "#bdd2e6",
           "backgroundImage": "none",
           "transition": "width 0.1s linear",
           "width": "100%"
          }
         },
         "children": [
          {
           "attributes": {
            "scoped": "scoped",
            "type": "text/css"
           },
           "children": [
            "\n                        @keyframes pb-fill-anim {\n                            0% { background-position: 0 0; }\n                            100% { background-position: 100px 0; }\n                        }}"
           ],
           "tagName": "style"
          },
          " "
         ],
         "tagName": "div"
        }
       ],
       "tagName": "div"
      },
      "text/html": [
       "<script>\n",
       "              (function () {\n",
       "                  var root = document.getElementById('d88f3ab4-4249-4f9f-a961-416b1f87350f');\n",
       "                  var text = root.getElementsByClassName('pb-text')[0];\n",
       "                  var fill = root.getElementsByClassName('pb-fill')[0];\n",
       "\n",
       "                  text.innerHTML = 'Simulation finished in 0:02:53.';\n",
       "                  \n",
       "            if (100.0 > 0.) {\n",
       "                fill.style.transition = 'width 0.1s linear';\n",
       "            } else {\n",
       "                fill.style.transition = 'none';\n",
       "            }\n",
       "\n",
       "            fill.style.width = '100.0%';\n",
       "            fill.style.animation = 'none';\n",
       "            fill.style.backgroundImage = 'none'\n",
       "        \n",
       "                  \n",
       "                fill.style.animation = 'none';\n",
       "                fill.style.backgroundImage = 'none';\n",
       "            \n",
       "              })();\n",
       "        </script>"
      ]
     },
     "metadata": {},
     "output_type": "display_data"
    }
   ],
   "source": [
    "sim.run(500)"
   ]
  },
  {
   "cell_type": "code",
   "execution_count": 141,
   "metadata": {},
   "outputs": [
    {
     "data": {
      "image/png": "[encoded data removed]",
      "text/plain": [
       "<Figure size 1008x360 with 1 Axes>"
      ]
     },
     "metadata": {
      "needs_background": "light"
     },
     "output_type": "display_data"
    }
   ],
   "source": [
    "plt.figure(figsize=(14,5))\n",
    "plt.plot(sim.trange(), sim.data[p_value], label='value')\n",
    "plt.plot(sim.trange(), sim.data[p_reward], label='reward')\n",
    "plt.legend()\n",
    "plt.show()"
   ]
  },
  {
   "cell_type": "markdown",
   "metadata": {},
   "source": [
    "That looks like learning to me!"
   ]
  },
  {
   "cell_type": "markdown",
   "metadata": {},
   "source": [
    "## Things to explore\n",
    "\n",
    "While this shows the general approach works, there are many things to explore to see how they affect the model.\n",
    "\n",
    "First, there's all the parameters that we mentioned when just looking at the Critic part:\n",
    " - number of neurons\n",
    " - neuron type (spiking, ReLU, sigmoid, etc.)\n",
    " - `tau_fast`, `tau_slow`, `discount`\n",
    " - `learning_rate` (for both actor and critic)\n",
    " - various versions of actor-critic (i.e. the error computation for the actor learning)\n",
    " \n",
    "Second, there's the application to different tasks.  The two next things to try would be the standard cart-pole and mountain car RL test cases.  However, this is a bit tricky because you have to decide how to reset the run and make sure that it's not learning between runs.  I prefer tasks that are always continuing, like this one.  Indeed, I might even be tempted to jump straight up to the Atari Pong example, since that can be more about a very long continuous run.\n",
    "\n",
    "For these more complex tasks, we would want to add some recurrence to the network.  The easiest way to do that would be to add a recurrent connection on the `nengo.Ensemble` that implements the LMU.  That way it's already a good recurrent network for storing information over time, and we don't have to do any learning in the recurrence.  We could also do a standard reservoir by having a random recurrent connection.  It would also be interesting to try implementing e-prop or another learning algorithm, if we can get those working.\n",
    "\n",
    "I mentioned the representation sparsity earlier, and I also think that will be an important parameter to work with, especially given that this sort of online learning exhibits a lot less catestrophic forgetting given a sparser neural representation.  There are a variety of ways of imposing sparsity in Nengo, but the easiest is what I mentioned above with adjusting the intercepts.  This seems to affect the Critic part of the algorithm a lot, but I haven't explored it in the Actor."
   ]
  },
  {
   "cell_type": "code",
   "execution_count": null,
   "metadata": {},
   "outputs": [],
   "source": []
  }
 ],
 "metadata": {
  "kernelspec": {
   "display_name": "Python 3",
   "language": "python",
   "name": "python3"
  },
  "language_info": {
   "codemirror_mode": {
    "name": "ipython",
    "version": 3
   },
   "file_extension": ".py",
   "mimetype": "text/x-python",
   "name": "python",
   "nbconvert_exporter": "python",
   "pygments_lexer": "ipython3",
   "version": "3.8.5"
  }
 },
 "nbformat": 4,
 "nbformat_minor": 4
}
